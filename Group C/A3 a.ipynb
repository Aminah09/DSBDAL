{
 "cells": [
  {
   "cell_type": "markdown",
   "id": "bd4ee678",
   "metadata": {},
   "source": [
    "# Assignment 1\n",
    "Name: Amina Shaikh <br>\n",
    "Roll No. 3369\n",
    "### 1.  Create a review scrapper for any ecommerce website to fetch real time comments, reviews, ratings, comment tags, customer name using Python."
   ]
  },
  {
   "cell_type": "code",
   "execution_count": 69,
   "id": "36d8d26c",
   "metadata": {},
   "outputs": [
    {
     "name": "stdout",
     "output_type": "stream",
     "text": [
      "Requirement already satisfied: requests in c:\\users\\amina\\appdata\\roaming\\python\\python39\\site-packages (2.26.0)\n",
      "Requirement already satisfied: charset-normalizer~=2.0.0 in c:\\users\\amina\\appdata\\roaming\\python\\python39\\site-packages (from requests) (2.0.6)\n",
      "Requirement already satisfied: urllib3<1.27,>=1.21.1 in c:\\users\\amina\\appdata\\roaming\\python\\python39\\site-packages (from requests) (1.26.7)\n",
      "Requirement already satisfied: certifi>=2017.4.17 in c:\\users\\amina\\anaconda3\\lib\\site-packages (from requests) (2022.12.7)\n",
      "Note: you may need to restart the kernel to use updated packages.Requirement already satisfied: idna<4,>=2.5 in c:\\users\\amina\\anaconda3\\lib\\site-packages (from requests) (3.2)\n",
      "\n"
     ]
    },
    {
     "name": "stderr",
     "output_type": "stream",
     "text": [
      "WARNING: Ignoring invalid distribution -rotobuf (c:\\users\\amina\\anaconda3\\lib\\site-packages)\n",
      "WARNING: Ignoring invalid distribution -rotobuf (c:\\users\\amina\\anaconda3\\lib\\site-packages)\n",
      "WARNING: Ignoring invalid distribution -rotobuf (c:\\users\\amina\\anaconda3\\lib\\site-packages)\n",
      "WARNING: Ignoring invalid distribution -rotobuf (c:\\users\\amina\\anaconda3\\lib\\site-packages)\n",
      "WARNING: Ignoring invalid distribution -rotobuf (c:\\users\\amina\\anaconda3\\lib\\site-packages)\n",
      "WARNING: Ignoring invalid distribution -rotobuf (c:\\users\\amina\\anaconda3\\lib\\site-packages)\n"
     ]
    }
   ],
   "source": [
    "pip install requests"
   ]
  },
  {
   "cell_type": "code",
   "execution_count": 70,
   "id": "0eb45a51",
   "metadata": {},
   "outputs": [],
   "source": [
    "from bs4 import BeautifulSoup as bs # import beatuful soup library for HTML manipulation\n",
    "import requests # The requests module allows you to send HTTP requests using Python."
   ]
  },
  {
   "cell_type": "code",
   "execution_count": 71,
   "id": "ff9737e0",
   "metadata": {},
   "outputs": [],
   "source": [
    "link='https://www.amazon.in/Renewed-OnePlus-Mirror-Black-Storage/product-reviews/B07KM2PL5C/ref=cm_cr_dp_d_show_all_btm?ie=UTF8&reviewerType=all_reviews' # specify the link of review page"
   ]
  },
  {
   "cell_type": "code",
   "execution_count": 72,
   "id": "2e646579",
   "metadata": {},
   "outputs": [
    {
     "data": {
      "text/plain": [
       "<Response [200]>"
      ]
     },
     "execution_count": 72,
     "metadata": {},
     "output_type": "execute_result"
    }
   ],
   "source": [
    "page = requests.get(link) # get response of request in object page\n",
    "page # print status of response object"
   ]
  },
  {
   "cell_type": "code",
   "execution_count": 73,
   "id": "1ef2e543",
   "metadata": {},
   "outputs": [],
   "source": [
    "soup=bs(page.content,\"html.parser\")"
   ]
  },
  {
   "cell_type": "code",
   "execution_count": 74,
   "id": "a5735005",
   "metadata": {},
   "outputs": [],
   "source": [
    "names=soup.find_all(\"span\",class_=\"a-profile-name\")"
   ]
  },
  {
   "cell_type": "code",
   "execution_count": 75,
   "id": "49dd3e3c",
   "metadata": {},
   "outputs": [
    {
     "data": {
      "text/plain": [
       "[<span class=\"a-profile-name\">Ham</span>,\n",
       " <span class=\"a-profile-name\">Sahin gazi</span>,\n",
       " <span class=\"a-profile-name\">Sahin gazi</span>,\n",
       " <span class=\"a-profile-name\">Bipin Kushwaha</span>,\n",
       " <span class=\"a-profile-name\">Madhu</span>,\n",
       " <span class=\"a-profile-name\">Ham</span>,\n",
       " <span class=\"a-profile-name\">Himanshu R.</span>,\n",
       " <span class=\"a-profile-name\">pritesh</span>,\n",
       " <span class=\"a-profile-name\">Amit Shriniwas Harel</span>,\n",
       " <span class=\"a-profile-name\">vamsi krishna</span>,\n",
       " <span class=\"a-profile-name\">vamsi krishna</span>,\n",
       " <span class=\"a-profile-name\">jyo</span>,\n",
       " <span class=\"a-profile-name\">raval jil</span>]"
      ]
     },
     "execution_count": 75,
     "metadata": {},
     "output_type": "execute_result"
    }
   ],
   "source": [
    "names"
   ]
  },
  {
   "cell_type": "code",
   "execution_count": 76,
   "id": "55ee24f2",
   "metadata": {},
   "outputs": [
    {
     "data": {
      "text/plain": [
       "['Ham',\n",
       " 'Sahin gazi',\n",
       " 'Sahin gazi',\n",
       " 'Bipin Kushwaha',\n",
       " 'Madhu',\n",
       " 'Ham',\n",
       " 'Himanshu R.',\n",
       " 'pritesh',\n",
       " 'Amit Shriniwas Harel',\n",
       " 'vamsi krishna',\n",
       " 'vamsi krishna',\n",
       " 'jyo',\n",
       " 'raval jil']"
      ]
     },
     "execution_count": 76,
     "metadata": {},
     "output_type": "execute_result"
    }
   ],
   "source": [
    "cust_name=[]\n",
    "for i in range(0,len(names)):\n",
    "    cust_name.append(names[i].get_text())\n",
    "cust_name"
   ]
  },
  {
   "cell_type": "code",
   "execution_count": 77,
   "id": "64a4e17a",
   "metadata": {},
   "outputs": [
    {
     "data": {
      "text/plain": [
       "13"
      ]
     },
     "execution_count": 77,
     "metadata": {},
     "output_type": "execute_result"
    }
   ],
   "source": [
    "len(cust_name)"
   ]
  },
  {
   "cell_type": "code",
   "execution_count": 78,
   "id": "a3c9b2a5",
   "metadata": {},
   "outputs": [
    {
     "data": {
      "text/plain": [
       "'Sahin gazi'"
      ]
     },
     "execution_count": 78,
     "metadata": {},
     "output_type": "execute_result"
    }
   ],
   "source": [
    "len(cust_name)\n",
    "cust_name.pop(0)\n",
    "cust_name.pop(0)"
   ]
  },
  {
   "cell_type": "code",
   "execution_count": 79,
   "id": "8ad52077",
   "metadata": {},
   "outputs": [
    {
     "data": {
      "text/plain": [
       "11"
      ]
     },
     "execution_count": 79,
     "metadata": {},
     "output_type": "execute_result"
    }
   ],
   "source": [
    "len(cust_name)"
   ]
  },
  {
   "cell_type": "code",
   "execution_count": 80,
   "id": "853ee152",
   "metadata": {},
   "outputs": [
    {
     "data": {
      "text/plain": [
       "['Sahin gazi',\n",
       " 'Bipin Kushwaha',\n",
       " 'Madhu',\n",
       " 'Ham',\n",
       " 'Himanshu R.',\n",
       " 'pritesh',\n",
       " 'Amit Shriniwas Harel',\n",
       " 'vamsi krishna',\n",
       " 'vamsi krishna',\n",
       " 'jyo',\n",
       " 'raval jil']"
      ]
     },
     "execution_count": 80,
     "metadata": {},
     "output_type": "execute_result"
    }
   ],
   "source": [
    "cust_name"
   ]
  },
  {
   "cell_type": "code",
   "execution_count": 81,
   "id": "73ca805a",
   "metadata": {},
   "outputs": [
    {
     "data": {
      "text/plain": [
       "'Amit Shriniwas Harel'"
      ]
     },
     "execution_count": 81,
     "metadata": {},
     "output_type": "execute_result"
    }
   ],
   "source": [
    "cust_name.pop(6)"
   ]
  },
  {
   "cell_type": "code",
   "execution_count": 82,
   "id": "af710652",
   "metadata": {},
   "outputs": [
    {
     "data": {
      "text/plain": [
       "10"
      ]
     },
     "execution_count": 82,
     "metadata": {},
     "output_type": "execute_result"
    }
   ],
   "source": [
    "len(cust_name)"
   ]
  },
  {
   "cell_type": "code",
   "execution_count": 83,
   "id": "0f5ea01e",
   "metadata": {},
   "outputs": [],
   "source": [
    "title=soup.find_all(\"a\",class_=\"review-title-content\")"
   ]
  },
  {
   "cell_type": "code",
   "execution_count": 84,
   "id": "88ab678a",
   "metadata": {},
   "outputs": [
    {
     "data": {
      "text/plain": [
       "[<a class=\"a-size-base a-link-normal review-title a-color-base review-title-content a-text-bold\" data-hook=\"review-title\" href=\"/gp/customer-reviews/R34YUCSWWAIJ0H?ASIN=B07KM2PL5C\">\n",
       " <span>Avarage</span>\n",
       " </a>,\n",
       " <a class=\"a-size-base a-link-normal review-title a-color-base review-title-content a-text-bold\" data-hook=\"review-title\" href=\"/gp/customer-reviews/RSMM8MRC1WG89?ASIN=B07KM2PL5C\">\n",
       " <span>OnePlus 6t</span>\n",
       " </a>,\n",
       " <a class=\"a-size-base a-link-normal review-title a-color-base review-title-content a-text-bold\" data-hook=\"review-title\" href=\"/gp/customer-reviews/R3U4KUOHJKM6NO?ASIN=B07KM2PL5C\">\n",
       " <span>Above average But satisfied.</span>\n",
       " </a>,\n",
       " <a class=\"a-size-base a-link-normal review-title a-color-base review-title-content a-text-bold\" data-hook=\"review-title\" href=\"/gp/customer-reviews/R8HB0XB5Q2V8E?ASIN=B07KM2PL5C\">\n",
       " <span>value for money</span>\n",
       " </a>,\n",
       " <a class=\"a-size-base a-link-normal review-title a-color-base review-title-content a-text-bold\" data-hook=\"review-title\" href=\"/gp/customer-reviews/R1ZNRJKA8D8L8J?ASIN=B07KM2PL5C\">\n",
       " <span>It’s ok</span>\n",
       " </a>,\n",
       " <a class=\"a-size-base a-link-normal review-title a-color-base review-title-content a-text-bold\" data-hook=\"review-title\" href=\"/gp/customer-reviews/RCX45FB40WFCB?ASIN=B07KM2PL5C\">\n",
       " <span>I didn't get good charger... Phone is not charging please do something</span>\n",
       " </a>,\n",
       " <a class=\"a-size-base a-link-normal review-title a-color-base review-title-content a-text-bold\" data-hook=\"review-title\" href=\"/gp/customer-reviews/R12G41HX32YY2L?ASIN=B07KM2PL5C\">\n",
       " <span>Getting duplicate charger with phone...</span>\n",
       " </a>,\n",
       " <a class=\"a-size-base a-link-normal review-title a-color-base review-title-content a-text-bold\" data-hook=\"review-title\" href=\"/gp/customer-reviews/R23O9ZSBFITL1R?ASIN=B07KM2PL5C\">\n",
       " <span>Bad phone</span>\n",
       " </a>,\n",
       " <a class=\"a-size-base a-link-normal review-title a-color-base review-title-content a-text-bold\" data-hook=\"review-title\" href=\"/gp/customer-reviews/R1ESAZO2Y3HQ6G?ASIN=B07KM2PL5C\">\n",
       " <span>Defective in fingerprint</span>\n",
       " </a>,\n",
       " <a class=\"a-size-base a-link-normal review-title a-color-base review-title-content a-text-bold\" data-hook=\"review-title\" href=\"/gp/customer-reviews/R2FL60T8EJ5EI8?ASIN=B07KM2PL5C\">\n",
       " <span>Bad product</span>\n",
       " </a>]"
      ]
     },
     "execution_count": 84,
     "metadata": {},
     "output_type": "execute_result"
    }
   ],
   "source": [
    "title"
   ]
  },
  {
   "cell_type": "code",
   "execution_count": 86,
   "id": "8e49f756",
   "metadata": {},
   "outputs": [
    {
     "data": {
      "text/plain": [
       "10"
      ]
     },
     "execution_count": 86,
     "metadata": {},
     "output_type": "execute_result"
    }
   ],
   "source": [
    "review_title = []\n",
    "for i in range(0, len(title)):\n",
    "    review_title.append(title[i].get_text())\n",
    "review_title = [*set(review_title)]\n",
    "review_title\n",
    "len(review_title)"
   ]
  },
  {
   "cell_type": "code",
   "execution_count": 87,
   "id": "d1a99281",
   "metadata": {},
   "outputs": [
    {
     "data": {
      "text/plain": [
       "['Getting duplicate charger with phone...',\n",
       " 'Bad product',\n",
       " 'OnePlus 6t',\n",
       " 'Bad phone',\n",
       " 'Defective in fingerprint',\n",
       " \"I didn't get good charger... Phone is not charging please do something\",\n",
       " 'It’s ok',\n",
       " 'Avarage',\n",
       " 'Above average But satisfied.',\n",
       " 'value for money']"
      ]
     },
     "execution_count": 87,
     "metadata": {},
     "output_type": "execute_result"
    }
   ],
   "source": [
    "review_title=[i.replace('\\n','') for i in review_title]\n",
    "review_title"
   ]
  },
  {
   "cell_type": "code",
   "execution_count": 88,
   "id": "a5afab88",
   "metadata": {},
   "outputs": [
    {
     "data": {
      "text/plain": [
       "[<i class=\"a-icon a-icon-star a-star-5 review-rating\" data-hook=\"review-star-rating-view-point\"><span class=\"a-icon-alt\">5.0 out of 5 stars</span></i>,\n",
       " <i class=\"a-icon a-icon-star a-star-3 review-rating\" data-hook=\"review-star-rating-view-point\"><span class=\"a-icon-alt\">3.0 out of 5 stars</span></i>,\n",
       " <i class=\"a-icon a-icon-star a-star-3 review-rating\" data-hook=\"review-star-rating\"><span class=\"a-icon-alt\">3.0 out of 5 stars</span></i>,\n",
       " <i class=\"a-icon a-icon-star a-star-3 review-rating\" data-hook=\"review-star-rating\"><span class=\"a-icon-alt\">3.0 out of 5 stars</span></i>,\n",
       " <i class=\"a-icon a-icon-star a-star-3 review-rating\" data-hook=\"review-star-rating\"><span class=\"a-icon-alt\">3.0 out of 5 stars</span></i>,\n",
       " <i class=\"a-icon a-icon-star a-star-5 review-rating\" data-hook=\"review-star-rating\"><span class=\"a-icon-alt\">5.0 out of 5 stars</span></i>,\n",
       " <i class=\"a-icon a-icon-star a-star-3 review-rating\" data-hook=\"review-star-rating\"><span class=\"a-icon-alt\">3.0 out of 5 stars</span></i>,\n",
       " <i class=\"a-icon a-icon-star a-star-3 review-rating\" data-hook=\"review-star-rating\"><span class=\"a-icon-alt\">3.0 out of 5 stars</span></i>,\n",
       " <i class=\"a-icon a-icon-star a-star-3 review-rating\" data-hook=\"review-star-rating\"><span class=\"a-icon-alt\">3.0 out of 5 stars</span></i>,\n",
       " <i class=\"a-icon a-icon-star a-star-3 review-rating\" data-hook=\"review-star-rating\"><span class=\"a-icon-alt\">3.0 out of 5 stars</span></i>,\n",
       " <i class=\"a-icon a-icon-star a-star-1 review-rating\" data-hook=\"review-star-rating\"><span class=\"a-icon-alt\">1.0 out of 5 stars</span></i>,\n",
       " <i class=\"a-icon a-icon-star a-star-2 review-rating\" data-hook=\"review-star-rating\"><span class=\"a-icon-alt\">2.0 out of 5 stars</span></i>]"
      ]
     },
     "execution_count": 88,
     "metadata": {},
     "output_type": "execute_result"
    }
   ],
   "source": [
    "rating = soup.find_all('i',class_='review-rating')\n",
    "rating"
   ]
  },
  {
   "cell_type": "code",
   "execution_count": 89,
   "id": "3e0299df",
   "metadata": {},
   "outputs": [
    {
     "data": {
      "text/plain": [
       "10"
      ]
     },
     "execution_count": 89,
     "metadata": {},
     "output_type": "execute_result"
    }
   ],
   "source": [
    "rate = []\n",
    "for i in range(0, len(rating)):\n",
    "    rate.append(rating[i].get_text())\n",
    "rate\n",
    "len(rate)\n",
    "rate.pop(0)\n",
    "rate.pop(0)\n",
    "len(rate)"
   ]
  },
  {
   "cell_type": "code",
   "execution_count": 90,
   "id": "c39c5fe2",
   "metadata": {},
   "outputs": [
    {
     "data": {
      "text/plain": [
       "['3.0 out of 5 stars',\n",
       " '3.0 out of 5 stars',\n",
       " '3.0 out of 5 stars',\n",
       " '5.0 out of 5 stars',\n",
       " '3.0 out of 5 stars',\n",
       " '3.0 out of 5 stars',\n",
       " '3.0 out of 5 stars',\n",
       " '3.0 out of 5 stars',\n",
       " '1.0 out of 5 stars',\n",
       " '2.0 out of 5 stars']"
      ]
     },
     "execution_count": 90,
     "metadata": {},
     "output_type": "execute_result"
    }
   ],
   "source": [
    "cust_name\n",
    "review_title\n",
    "rate"
   ]
  },
  {
   "cell_type": "code",
   "execution_count": 92,
   "id": "493b2d1d",
   "metadata": {},
   "outputs": [
    {
     "data": {
      "text/html": [
       "<div>\n",
       "<style scoped>\n",
       "    .dataframe tbody tr th:only-of-type {\n",
       "        vertical-align: middle;\n",
       "    }\n",
       "\n",
       "    .dataframe tbody tr th {\n",
       "        vertical-align: top;\n",
       "    }\n",
       "\n",
       "    .dataframe thead th {\n",
       "        text-align: right;\n",
       "    }\n",
       "</style>\n",
       "<table border=\"1\" class=\"dataframe\">\n",
       "  <thead>\n",
       "    <tr style=\"text-align: right;\">\n",
       "      <th></th>\n",
       "    </tr>\n",
       "  </thead>\n",
       "  <tbody>\n",
       "  </tbody>\n",
       "</table>\n",
       "</div>"
      ],
      "text/plain": [
       "Empty DataFrame\n",
       "Columns: []\n",
       "Index: []"
      ]
     },
     "execution_count": 92,
     "metadata": {},
     "output_type": "execute_result"
    }
   ],
   "source": [
    "import pandas as pd\n",
    "df=pd.DataFrame()\n",
    "df"
   ]
  },
  {
   "cell_type": "code",
   "execution_count": 93,
   "id": "32e2607e",
   "metadata": {},
   "outputs": [],
   "source": [
    "df['Customer name'] = cust_name\n",
    "df['Review title'] = review_title\n",
    "df['Rating'] = rate"
   ]
  },
  {
   "cell_type": "code",
   "execution_count": 94,
   "id": "c7261969",
   "metadata": {},
   "outputs": [
    {
     "data": {
      "text/html": [
       "<div>\n",
       "<style scoped>\n",
       "    .dataframe tbody tr th:only-of-type {\n",
       "        vertical-align: middle;\n",
       "    }\n",
       "\n",
       "    .dataframe tbody tr th {\n",
       "        vertical-align: top;\n",
       "    }\n",
       "\n",
       "    .dataframe thead th {\n",
       "        text-align: right;\n",
       "    }\n",
       "</style>\n",
       "<table border=\"1\" class=\"dataframe\">\n",
       "  <thead>\n",
       "    <tr style=\"text-align: right;\">\n",
       "      <th></th>\n",
       "      <th>Customer name</th>\n",
       "      <th>Review title</th>\n",
       "      <th>Rating</th>\n",
       "    </tr>\n",
       "  </thead>\n",
       "  <tbody>\n",
       "    <tr>\n",
       "      <th>0</th>\n",
       "      <td>Sahin gazi</td>\n",
       "      <td>Getting duplicate charger with phone...</td>\n",
       "      <td>3.0 out of 5 stars</td>\n",
       "    </tr>\n",
       "    <tr>\n",
       "      <th>1</th>\n",
       "      <td>Bipin Kushwaha</td>\n",
       "      <td>Bad product</td>\n",
       "      <td>3.0 out of 5 stars</td>\n",
       "    </tr>\n",
       "    <tr>\n",
       "      <th>2</th>\n",
       "      <td>Madhu</td>\n",
       "      <td>OnePlus 6t</td>\n",
       "      <td>3.0 out of 5 stars</td>\n",
       "    </tr>\n",
       "    <tr>\n",
       "      <th>3</th>\n",
       "      <td>Ham</td>\n",
       "      <td>Bad phone</td>\n",
       "      <td>5.0 out of 5 stars</td>\n",
       "    </tr>\n",
       "    <tr>\n",
       "      <th>4</th>\n",
       "      <td>Himanshu R.</td>\n",
       "      <td>Defective in fingerprint</td>\n",
       "      <td>3.0 out of 5 stars</td>\n",
       "    </tr>\n",
       "    <tr>\n",
       "      <th>5</th>\n",
       "      <td>pritesh</td>\n",
       "      <td>I didn't get good charger... Phone is not char...</td>\n",
       "      <td>3.0 out of 5 stars</td>\n",
       "    </tr>\n",
       "    <tr>\n",
       "      <th>6</th>\n",
       "      <td>vamsi krishna</td>\n",
       "      <td>It’s ok</td>\n",
       "      <td>3.0 out of 5 stars</td>\n",
       "    </tr>\n",
       "    <tr>\n",
       "      <th>7</th>\n",
       "      <td>vamsi krishna</td>\n",
       "      <td>Avarage</td>\n",
       "      <td>3.0 out of 5 stars</td>\n",
       "    </tr>\n",
       "    <tr>\n",
       "      <th>8</th>\n",
       "      <td>jyo</td>\n",
       "      <td>Above average But satisfied.</td>\n",
       "      <td>1.0 out of 5 stars</td>\n",
       "    </tr>\n",
       "    <tr>\n",
       "      <th>9</th>\n",
       "      <td>raval jil</td>\n",
       "      <td>value for money</td>\n",
       "      <td>2.0 out of 5 stars</td>\n",
       "    </tr>\n",
       "  </tbody>\n",
       "</table>\n",
       "</div>"
      ],
      "text/plain": [
       "    Customer name                                       Review title  \\\n",
       "0      Sahin gazi            Getting duplicate charger with phone...   \n",
       "1  Bipin Kushwaha                                        Bad product   \n",
       "2           Madhu                                         OnePlus 6t   \n",
       "3             Ham                                          Bad phone   \n",
       "4     Himanshu R.                           Defective in fingerprint   \n",
       "5         pritesh  I didn't get good charger... Phone is not char...   \n",
       "6   vamsi krishna                                            It’s ok   \n",
       "7   vamsi krishna                                            Avarage   \n",
       "8             jyo                       Above average But satisfied.   \n",
       "9       raval jil                                    value for money   \n",
       "\n",
       "               Rating  \n",
       "0  3.0 out of 5 stars  \n",
       "1  3.0 out of 5 stars  \n",
       "2  3.0 out of 5 stars  \n",
       "3  5.0 out of 5 stars  \n",
       "4  3.0 out of 5 stars  \n",
       "5  3.0 out of 5 stars  \n",
       "6  3.0 out of 5 stars  \n",
       "7  3.0 out of 5 stars  \n",
       "8  1.0 out of 5 stars  \n",
       "9  2.0 out of 5 stars  "
      ]
     },
     "execution_count": 94,
     "metadata": {},
     "output_type": "execute_result"
    }
   ],
   "source": [
    "df"
   ]
  },
  {
   "cell_type": "code",
   "execution_count": null,
   "id": "263f7105",
   "metadata": {},
   "outputs": [],
   "source": []
  }
 ],
 "metadata": {
  "kernelspec": {
   "display_name": "Python 3 (ipykernel)",
   "language": "python",
   "name": "python3"
  },
  "language_info": {
   "codemirror_mode": {
    "name": "ipython",
    "version": 3
   },
   "file_extension": ".py",
   "mimetype": "text/x-python",
   "name": "python",
   "nbconvert_exporter": "python",
   "pygments_lexer": "ipython3",
   "version": "3.9.7"
  }
 },
 "nbformat": 4,
 "nbformat_minor": 5
}
